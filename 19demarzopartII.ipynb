{
 "cells": [
  {
   "cell_type": "code",
   "execution_count": 1,
   "id": "ae99de73",
   "metadata": {},
   "outputs": [
    {
     "name": "stdout",
     "output_type": "stream",
     "text": [
      "The value of A is: 4\n",
      "The value of B is: 6\n",
      "The value of C is: 10\n",
      "The value of D is: -2\n"
     ]
    }
   ],
   "source": [
    "A = 4 \n",
    "print('The value of A is:',A) \n",
    "B = 6 \n",
    "print('The value of B is:',B) \n",
    "C = A+B\n",
    "print('The value of C is:',C)\n",
    "D = A- B \n",
    "print('The value of D is:',D)"
   ]
  },
  {
   "cell_type": "code",
   "execution_count": 4,
   "id": "25aecac5",
   "metadata": {},
   "outputs": [
    {
     "name": "stdout",
     "output_type": "stream",
     "text": [
      "2.5\n"
     ]
    }
   ],
   "source": [
    "X = 5/2 \n",
    "print(X)\n"
   ]
  },
  {
   "cell_type": "code",
   "execution_count": 5,
   "id": "fce25db7",
   "metadata": {},
   "outputs": [
    {
     "name": "stdout",
     "output_type": "stream",
     "text": [
      "2\n"
     ]
    }
   ],
   "source": [
    "Y = (int) (X)\n",
    "print(Y)"
   ]
  },
  {
   "cell_type": "code",
   "execution_count": 6,
   "id": "f01026cd",
   "metadata": {},
   "outputs": [
    {
     "name": "stdout",
     "output_type": "stream",
     "text": [
      "9.5\n"
     ]
    }
   ],
   "source": [
    "v1 = 4\n",
    "v2 = 5.5\n",
    "v3 = v1 + v2\n",
    "print(v3)"
   ]
  },
  {
   "cell_type": "code",
   "execution_count": 9,
   "id": "464d4ed8",
   "metadata": {},
   "outputs": [
    {
     "name": "stdout",
     "output_type": "stream",
     "text": [
      "9.5\n"
     ]
    }
   ],
   "source": [
    "v1 = 4\n",
    "v2 = 5.5\n",
    "v3 = v1 + v2\n",
    "print(v3)"
   ]
  },
  {
   "cell_type": "code",
   "execution_count": 11,
   "id": "3e3f463c",
   "metadata": {},
   "outputs": [
    {
     "name": "stdout",
     "output_type": "stream",
     "text": [
      "1st2nd3rd\n"
     ]
    }
   ],
   "source": [
    "X = '1st' \n",
    "Y = '2nd' \n",
    "Z = '3rd' \n",
    "Ans = X + Y + Z\n",
    "print(Ans)"
   ]
  },
  {
   "cell_type": "code",
   "execution_count": 17,
   "id": "702973d4",
   "metadata": {},
   "outputs": [
    {
     "name": "stdout",
     "output_type": "stream",
     "text": [
      "-28\n"
     ]
    }
   ],
   "source": [
    "Birth_Year = 1997\n",
    "Current_Year = 2025\n",
    "Age = Birth_Year - Current_Year\n",
    "print(Age)"
   ]
  },
  {
   "cell_type": "code",
   "execution_count": 20,
   "id": "2d593fd1",
   "metadata": {},
   "outputs": [
    {
     "name": "stdout",
     "output_type": "stream",
     "text": [
      "Angie\n",
      "Colombia\n",
      "Business Administrator\n"
     ]
    }
   ],
   "source": [
    "my_name = 'Angie'\n",
    "my_country = 'Colombia'\n",
    "my_major = 'Business Administrator'\n",
    "\n",
    "print(my_name)\n",
    "print(my_country)\n",
    "print(my_major)\n",
    "\n"
   ]
  },
  {
   "cell_type": "code",
   "execution_count": 23,
   "id": "7ecbf7c5",
   "metadata": {},
   "outputs": [],
   "source": [
    "G = my_name.upper()\n",
    "G1 = my_country.lower()\n",
    "G2 = my_major.swapcase()"
   ]
  },
  {
   "cell_type": "code",
   "execution_count": 27,
   "id": "cc5a76f4",
   "metadata": {
    "scrolled": true
   },
   "outputs": [
    {
     "name": "stdout",
     "output_type": "stream",
     "text": [
      "my_nameis: Angie\n",
      "my_name in upercase: ANGIE\n",
      "my_countryis: colombia\n",
      "my_majoris: bUSINESS aDMINISTRATOR\n"
     ]
    }
   ],
   "source": [
    "print ('my_nameis:',my_name)\n",
    "print ('my_name in upercase:',my_name.upper())\n",
    "print ('my_countryis:',my_country.lower())\n",
    "print ('my_majoris:',my_major.swapcase())\n"
   ]
  },
  {
   "cell_type": "code",
   "execution_count": 39,
   "id": "23a48fff",
   "metadata": {},
   "outputs": [
    {
     "name": "stdout",
     "output_type": "stream",
     "text": [
      "18\n",
      "-20\n"
     ]
    }
   ],
   "source": [
    "P = 2\n",
    "Q = 7\n",
    "D = 2*(P+Q)\n",
    "print(D)\n",
    "K = 4*(P-Q)\n",
    "print(K)"
   ]
  },
  {
   "cell_type": "code",
   "execution_count": 40,
   "id": "35d74e9b",
   "metadata": {},
   "outputs": [
    {
     "name": "stdout",
     "output_type": "stream",
     "text": [
      "This is my 2nd Tutorial in MDS601\n"
     ]
    }
   ],
   "source": [
    "#STRINGS \n",
    "text = 'This is my 2nd Tutorial in MDS601'\n",
    "#A\n",
    "print(text)"
   ]
  },
  {
   "cell_type": "code",
   "execution_count": 41,
   "id": "bb9244b7",
   "metadata": {},
   "outputs": [
    {
     "name": "stdout",
     "output_type": "stream",
     "text": [
      "33\n"
     ]
    }
   ],
   "source": [
    "#B\n",
    "print(len(text))"
   ]
  },
  {
   "cell_type": "code",
   "execution_count": 42,
   "id": "41e55556",
   "metadata": {},
   "outputs": [
    {
     "name": "stdout",
     "output_type": "stream",
     "text": [
      "i\n"
     ]
    }
   ],
   "source": [
    "#C\n",
    "print(text[5])"
   ]
  },
  {
   "cell_type": "code",
   "execution_count": 43,
   "id": "51bee2a2",
   "metadata": {},
   "outputs": [
    {
     "data": {
      "text/plain": [
       "'1'"
      ]
     },
     "execution_count": 43,
     "metadata": {},
     "output_type": "execute_result"
    }
   ],
   "source": [
    "#D\n",
    "text[len(text)-1]"
   ]
  },
  {
   "cell_type": "code",
   "execution_count": 47,
   "id": "5af8379d",
   "metadata": {},
   "outputs": [
    {
     "name": "stdout",
     "output_type": "stream",
     "text": [
      "tHIS IS MY 2ND tUTORIAL IN mds601\n"
     ]
    }
   ],
   "source": [
    "#e, f\n",
    "updated_text = text.swapcase()\n",
    "print(updated_text)"
   ]
  },
  {
   "cell_type": "code",
   "execution_count": 57,
   "id": "3e7ec7b1",
   "metadata": {},
   "outputs": [
    {
     "name": "stdout",
     "output_type": "stream",
     "text": [
      "Angie Cepeda\n"
     ]
    }
   ],
   "source": [
    "FName = 'Angie'\n",
    "LName = 'Cepeda'\n",
    "\n",
    "full_name = FName + ' ' + LName \n",
    "print(full_name)"
   ]
  },
  {
   "cell_type": "code",
   "execution_count": 70,
   "id": "ee4c9841",
   "metadata": {},
   "outputs": [],
   "source": [
    "my_list = [20,40,60,80,100,120]\n"
   ]
  },
  {
   "cell_type": "code",
   "execution_count": 71,
   "id": "84db1174",
   "metadata": {},
   "outputs": [
    {
     "name": "stdout",
     "output_type": "stream",
     "text": [
      "[30, 40, 60, 80, 100, 120]\n"
     ]
    }
   ],
   "source": [
    "#a\n",
    "my_list[0]= 30\n",
    "print(my_list)"
   ]
  },
  {
   "cell_type": "code",
   "execution_count": 72,
   "id": "dfcdc06b",
   "metadata": {},
   "outputs": [
    {
     "name": "stdout",
     "output_type": "stream",
     "text": [
      "[30, 40, 60, 80, 100, 70]\n"
     ]
    }
   ],
   "source": [
    "#b\n",
    "my_list[len(my_list)-1] = my_list[0] + my_list[1]\n",
    "print(my_list)"
   ]
  },
  {
   "cell_type": "code",
   "execution_count": 73,
   "id": "0e6a18a4",
   "metadata": {},
   "outputs": [
    {
     "name": "stdout",
     "output_type": "stream",
     "text": [
      "[30, 40, 60, 80, 100, 70, 11, 22]\n"
     ]
    }
   ],
   "source": [
    "#c\n",
    "my_list.extend([11,22])\n",
    "print(my_list)"
   ]
  },
  {
   "cell_type": "code",
   "execution_count": 74,
   "id": "4c2b8ceb",
   "metadata": {},
   "outputs": [
    {
     "name": "stdout",
     "output_type": "stream",
     "text": [
      "[30, 40, 60, -10, 80, 100, 70, 11, 22]\n"
     ]
    }
   ],
   "source": [
    "#d\n",
    "my_list.insert(3,-10)\n",
    "print(my_list)"
   ]
  },
  {
   "cell_type": "code",
   "execution_count": 76,
   "id": "3fd6babb",
   "metadata": {},
   "outputs": [
    {
     "name": "stdout",
     "output_type": "stream",
     "text": [
      "[-10, 11, 22, 30, 40, 60, 70, 80, 100]\n"
     ]
    }
   ],
   "source": [
    "#e\n",
    "sorted_list= sorted(my_list)\n",
    "print(sorted_list)"
   ]
  },
  {
   "cell_type": "code",
   "execution_count": 77,
   "id": "af9c86fd",
   "metadata": {},
   "outputs": [
    {
     "name": "stdout",
     "output_type": "stream",
     "text": [
      "[30, 40, 60, -10, 80, 100, 70, 11, 22]\n"
     ]
    }
   ],
   "source": [
    "print(my_list)"
   ]
  },
  {
   "cell_type": "code",
   "execution_count": 79,
   "id": "01d7c55c",
   "metadata": {},
   "outputs": [
    {
     "name": "stdout",
     "output_type": "stream",
     "text": [
      "(11, 22, 33, 44, 55)\n"
     ]
    }
   ],
   "source": [
    "#Tuple\n",
    "my_tuple = (11,22,33,44,55)\n",
    "print(my_tuple)\n"
   ]
  },
  {
   "cell_type": "code",
   "execution_count": 82,
   "id": "b7fee901",
   "metadata": {},
   "outputs": [
    {
     "name": "stdout",
     "output_type": "stream",
     "text": [
      "5\n"
     ]
    }
   ],
   "source": [
    "print(len(my_tuple))\n"
   ]
  },
  {
   "cell_type": "code",
   "execution_count": 83,
   "id": "0b63802c",
   "metadata": {},
   "outputs": [
    {
     "name": "stdout",
     "output_type": "stream",
     "text": [
      "55\n"
     ]
    }
   ],
   "source": [
    "print(my_tuple[len(my_tuple)-1])"
   ]
  },
  {
   "cell_type": "code",
   "execution_count": 85,
   "id": "e5e4f4f4",
   "metadata": {},
   "outputs": [],
   "source": [
    "my_data= {'Cata': 30, 'Thais':30, 'Jhon':20, 'Luis':26}"
   ]
  },
  {
   "cell_type": "code",
   "execution_count": 86,
   "id": "9c27e200",
   "metadata": {},
   "outputs": [
    {
     "name": "stdout",
     "output_type": "stream",
     "text": [
      "{'Cata': 30, 'Thais': 30, 'Jhon': 20, 'Luis': 26}\n"
     ]
    }
   ],
   "source": [
    "print(my_data)"
   ]
  },
  {
   "cell_type": "code",
   "execution_count": 87,
   "id": "c4878f0c",
   "metadata": {},
   "outputs": [
    {
     "name": "stdout",
     "output_type": "stream",
     "text": [
      "dict_keys(['Cata', 'Thais', 'Jhon', 'Luis'])\n"
     ]
    }
   ],
   "source": [
    "print(my_data.keys())"
   ]
  },
  {
   "cell_type": "code",
   "execution_count": 88,
   "id": "69639164",
   "metadata": {},
   "outputs": [
    {
     "name": "stdout",
     "output_type": "stream",
     "text": [
      "dict_values([30, 30, 20, 26])\n"
     ]
    }
   ],
   "source": [
    "print(my_data.values())"
   ]
  },
  {
   "cell_type": "code",
   "execution_count": 90,
   "id": "9f34e271",
   "metadata": {},
   "outputs": [
    {
     "name": "stdout",
     "output_type": "stream",
     "text": [
      "20\n"
     ]
    }
   ],
   "source": [
    "print(my_data['Jhon'])"
   ]
  }
 ],
 "metadata": {
  "kernelspec": {
   "display_name": "Python 3 (ipykernel)",
   "language": "python",
   "name": "python3"
  },
  "language_info": {
   "codemirror_mode": {
    "name": "ipython",
    "version": 3
   },
   "file_extension": ".py",
   "mimetype": "text/x-python",
   "name": "python",
   "nbconvert_exporter": "python",
   "pygments_lexer": "ipython3",
   "version": "3.10.9"
  }
 },
 "nbformat": 4,
 "nbformat_minor": 5
}
