{
 "cells": [
  {
   "cell_type": "code",
   "execution_count": 12,
   "id": "ae0ec2c9",
   "metadata": {},
   "outputs": [
    {
     "name": "stdout",
     "output_type": "stream",
     "text": [
      "I am super incredible\n"
     ]
    }
   ],
   "source": [
    "#Defining a Function\n",
    "\n",
    "def fun1():\n",
    "    print(\"I am super incredible\")\n",
    "fun1()"
   ]
  },
  {
   "cell_type": "code",
   "execution_count": 13,
   "id": "ee65e4f0",
   "metadata": {},
   "outputs": [
    {
     "name": "stdout",
     "output_type": "stream",
     "text": [
      "I am super incredible 2 And super hungry\n"
     ]
    }
   ],
   "source": [
    "#Defining a Function with 1 variable\n",
    "\n",
    "def fun2(a):\n",
    "    print(\"I am super incredible\", a, \"And super hungry\")\n",
    "fun2(2)"
   ]
  },
  {
   "cell_type": "code",
   "execution_count": 14,
   "id": "96928674",
   "metadata": {},
   "outputs": [
    {
     "name": "stdout",
     "output_type": "stream",
     "text": [
      "Number is Odd\n"
     ]
    }
   ],
   "source": [
    "#Write a Python function that takes input and check if is an odd number or even number\n",
    "\n",
    "def check(a):\n",
    "    if a%2==0:\n",
    "        print(\"Number is Even\")\n",
    "    else:\n",
    "        print(\"Number is Odd\")\n",
    "\n",
    "b = 9\n",
    "check(b)"
   ]
  },
  {
   "cell_type": "code",
   "execution_count": 15,
   "id": "202f55f6",
   "metadata": {},
   "outputs": [
    {
     "name": "stdout",
     "output_type": "stream",
     "text": [
      "Number is Even\n"
     ]
    }
   ],
   "source": [
    "b = 8\n",
    "check(b)"
   ]
  },
  {
   "cell_type": "code",
   "execution_count": 20,
   "id": "e1e41281",
   "metadata": {
    "scrolled": true
   },
   "outputs": [
    {
     "name": "stdout",
     "output_type": "stream",
     "text": [
      "* \r\n",
      "* * \r\n",
      "* * * \r\n",
      "* * * * \r\n",
      "* * * * * \r\n"
     ]
    }
   ],
   "source": [
    "n = 5\n",
    "for i in range(n):\n",
    "    for j in range(i+1):\n",
    "        print(\"*\",end=' ')\n",
    "    print('\\r')"
   ]
  },
  {
   "cell_type": "code",
   "execution_count": 26,
   "id": "55f30abd",
   "metadata": {},
   "outputs": [
    {
     "name": "stdout",
     "output_type": "stream",
     "text": [
      "* \r\n",
      "* * \r\n",
      "* * * \r\n",
      "* * * * \r\n",
      "* * * * * \r\n",
      "* * * * * * \r\n",
      "* * * * * * * \r\n",
      "* * * * * * * * \r\n",
      "* * * * * * * * * \r\n",
      "* * * * * * * * * * \r\n"
     ]
    }
   ],
   "source": [
    "#Write a Python Function that takes the number of rows as input and then prints a pattern. Fexample, if the number of rows = 5, the pattern will look like the following. \n",
    "\n",
    "\n",
    "def pattern(n):\n",
    "    for i in range(n):\n",
    "        for j in range(i+1):\n",
    "            print(\"*\",end=' ')\n",
    "        print('\\r')\n",
    "    \n",
    "number_rows = 10\n",
    "pattern(number_rows)\n",
    "\n"
   ]
  },
  {
   "cell_type": "code",
   "execution_count": 28,
   "id": "1fd9a436",
   "metadata": {},
   "outputs": [
    {
     "name": "stdout",
     "output_type": "stream",
     "text": [
      "10\n",
      "15\n",
      "20\n",
      "25\n",
      "30\n",
      "35\n",
      "40\n",
      "45\n",
      "50\n",
      "55\n",
      "60\n",
      "65\n",
      "70\n",
      "75\n",
      "80\n",
      "85\n",
      "90\n",
      "95\n"
     ]
    }
   ],
   "source": [
    "#Write a Python function that takes a range (upper and lower) and returns all the values in that range that are multiple of 5. \n",
    "\n",
    "lower = 10\n",
    "upper = 100\n",
    "\n",
    "for i in range(lower,upper):\n",
    "    if i%5==0:\n",
    "        print(i)\n",
    "\n"
   ]
  },
  {
   "cell_type": "code",
   "execution_count": 31,
   "id": "b2e87777",
   "metadata": {},
   "outputs": [
    {
     "name": "stdout",
     "output_type": "stream",
     "text": [
      "[10, 15, 20, 25, 30, 35, 40, 45, 50, 55, 60, 65, 70, 75, 80, 85, 90, 95, 100]\n"
     ]
    }
   ],
   "source": [
    "#Write a Python function that takes a range (upper and lower) and returns all the values in that range that are multiple of 5. \n",
    "\n",
    "def multi_5(lower,upper):\n",
    "    multi5_list = []\n",
    "    for i in range(lower,upper+1):\n",
    "        if i%5==0:\n",
    "            multi5_list.append(i)\n",
    "    return multi5_list\n",
    "\n",
    "lower = 10\n",
    "upper = 100\n",
    "\n",
    "answer = multi_5(lower,upper)\n",
    "print(answer)"
   ]
  },
  {
   "cell_type": "code",
   "execution_count": 32,
   "id": "103843c0",
   "metadata": {},
   "outputs": [
    {
     "name": "stdout",
     "output_type": "stream",
     "text": [
      "hELLO NAME\n"
     ]
    }
   ],
   "source": [
    "#Write a Python function that takes a string and swaps the case i.e., covert it from lower to upper \\case and vice versa\\\n",
    "\n",
    "text = \"Hello name\"\n",
    "print(text.swapcase())\n"
   ]
  },
  {
   "cell_type": "code",
   "execution_count": 33,
   "id": "006cb80c",
   "metadata": {},
   "outputs": [
    {
     "name": "stdout",
     "output_type": "stream",
     "text": [
      "Original String is: Hello name\n",
      "Updated String is: hELLO NAME\n"
     ]
    }
   ],
   "source": [
    "#Write a Python function that takes a string and swaps the case i.e., covert it from lower to upper \\case and vice versa\\\n",
    "\n",
    "def case_swap(text):\n",
    "    return text.swapcase()\n",
    "\n",
    "string = \"Hello name\"\n",
    "print(\"Original String is:\", string)\n",
    "updated_string = case_swap(string)\n",
    "print(\"Updated String is:\", updated_string)"
   ]
  },
  {
   "cell_type": "code",
   "execution_count": 35,
   "id": "fcd62088",
   "metadata": {},
   "outputs": [
    {
     "name": "stdout",
     "output_type": "stream",
     "text": [
      "95\n"
     ]
    }
   ],
   "source": [
    "#Write a Python function that takes a list an input and returns the maximum value from the given list\n",
    "\n",
    "a_list = [10, 95, 74, 56, 25, 65, 73]\n",
    "\n",
    "maximum = a_list[0] #hypothesis\n",
    "for i in range(len(a_list)):\n",
    "    if a_list[i] > maximum:\n",
    "        maximum = a_list[i]\n",
    "        \n",
    "print(maximum)"
   ]
  },
  {
   "cell_type": "code",
   "execution_count": 41,
   "id": "bfd2816c",
   "metadata": {},
   "outputs": [
    {
     "name": "stdout",
     "output_type": "stream",
     "text": [
      "95\n"
     ]
    }
   ],
   "source": [
    "#Write a Python function that takes a list an input and returns the maximum value from the given list\n",
    "\n",
    "def find_max(a_list):\n",
    "    maximum = a_list[0] #hypothesis\n",
    "    for i in range(len(a_list)):\n",
    "        if a_list[i] > maximum:\n",
    "            maximum = a_list[i]\n",
    "    return maximum\n",
    "\n",
    "\n",
    "b_list = [10, 95, 74, 56, 25, 65, 73]\n",
    "max_value = find_max(b_list)\n",
    "\n",
    "\n",
    "\n",
    "print(max_value)"
   ]
  },
  {
   "cell_type": "code",
   "execution_count": 48,
   "id": "e96f0ed5",
   "metadata": {},
   "outputs": [
    {
     "name": "stdout",
     "output_type": "stream",
     "text": [
      "Hola\n",
      "como\n",
      "te\n",
      "baila\n",
      "4\n"
     ]
    }
   ],
   "source": [
    "#Write a Python function that takes a sentence as an input and returns the number of words in it.\n",
    "\n",
    "text_1 = \"Hola como te baila\"\n",
    "words = text_1.split()\n",
    "\n",
    "counter = 0\n",
    "\n",
    "for word in words:\n",
    "    print(word)\n",
    "    counter = counter + 1\n",
    "    \n",
    "    \n",
    "    \n",
    "print(counter)"
   ]
  },
  {
   "cell_type": "code",
   "execution_count": 49,
   "id": "25f1ae32",
   "metadata": {},
   "outputs": [
    {
     "name": "stdout",
     "output_type": "stream",
     "text": [
      "4\n"
     ]
    }
   ],
   "source": [
    "#Write a Python function that takes a sentence as an input and returns the number of words in it.\n",
    "\n",
    "def count(text):\n",
    "    words = text.split()\n",
    "    counter = 0\n",
    "    for word in words:\n",
    "        counter = counter + 1\n",
    "    return counter\n",
    "\n",
    "text = \"Hola como le baila\"\n",
    "total_words = count(text)\n",
    "print(total_words)"
   ]
  },
  {
   "cell_type": "code",
   "execution_count": 50,
   "id": "6861ea97",
   "metadata": {},
   "outputs": [
    {
     "name": "stdout",
     "output_type": "stream",
     "text": [
      "String will work\n",
      "None\n"
     ]
    }
   ],
   "source": [
    "def method(a):\n",
    "    if type(a)==str:\n",
    "        print(\"String will work\")\n",
    "    elif type(a)==int:\n",
    "        print(\"Integere will work\")\n",
    "    elif type(a)==float:\n",
    "        print(\"Float will work\")\n",
    "        \n",
    "print(method('3'))"
   ]
  },
  {
   "cell_type": "code",
   "execution_count": null,
   "id": "cb67af4e",
   "metadata": {},
   "outputs": [],
   "source": []
  }
 ],
 "metadata": {
  "kernelspec": {
   "display_name": "Python 3 (ipykernel)",
   "language": "python",
   "name": "python3"
  },
  "language_info": {
   "codemirror_mode": {
    "name": "ipython",
    "version": 3
   },
   "file_extension": ".py",
   "mimetype": "text/x-python",
   "name": "python",
   "nbconvert_exporter": "python",
   "pygments_lexer": "ipython3",
   "version": "3.10.9"
  }
 },
 "nbformat": 4,
 "nbformat_minor": 5
}
