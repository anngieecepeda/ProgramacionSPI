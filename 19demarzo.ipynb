{
 "cells": [
  {
   "cell_type": "code",
   "execution_count": 1,
   "id": "aa049823",
   "metadata": {},
   "outputs": [
    {
     "data": {
      "text/plain": [
       "2.0"
      ]
     },
     "execution_count": 1,
     "metadata": {},
     "output_type": "execute_result"
    }
   ],
   "source": [
    "import math\n",
    "math.sqrt(4)"
   ]
  },
  {
   "cell_type": "code",
   "execution_count": 2,
   "id": "571c8919",
   "metadata": {},
   "outputs": [
    {
     "data": {
      "text/plain": [
       "2.0"
      ]
     },
     "execution_count": 2,
     "metadata": {},
     "output_type": "execute_result"
    }
   ],
   "source": [
    "from math import sqrt\n",
    "value = 4\n",
    "sqrt(value)"
   ]
  },
  {
   "cell_type": "code",
   "execution_count": 9,
   "id": "35d71d06",
   "metadata": {},
   "outputs": [
    {
     "name": "stdout",
     "output_type": "stream",
     "text": [
      "Welcome to SPI in 2025\n",
      "22\n"
     ]
    }
   ],
   "source": [
    "s_string = \"Welcome to SPI in 2025\"\n",
    "print(s_string)\n",
    "length = len(s_string)\n",
    "print(length)\n"
   ]
  },
  {
   "cell_type": "code",
   "execution_count": 11,
   "id": "994d4ea7",
   "metadata": {},
   "outputs": [],
   "source": [
    "a_list = [10,20,30,40,50,60,70,80,85,90]"
   ]
  },
  {
   "cell_type": "code",
   "execution_count": 12,
   "id": "ab5975b0",
   "metadata": {},
   "outputs": [
    {
     "name": "stdout",
     "output_type": "stream",
     "text": [
      "[10, 20, 30, 40, 50, 60, 70, 80, 85, 90]\n"
     ]
    }
   ],
   "source": [
    "print(a_list) "
   ]
  },
  {
   "cell_type": "code",
   "execution_count": 13,
   "id": "591b4029",
   "metadata": {},
   "outputs": [
    {
     "data": {
      "text/plain": [
       "50"
      ]
     },
     "execution_count": 13,
     "metadata": {},
     "output_type": "execute_result"
    }
   ],
   "source": [
    "a_list[4]"
   ]
  },
  {
   "cell_type": "code",
   "execution_count": 15,
   "id": "b75314eb",
   "metadata": {},
   "outputs": [],
   "source": [
    "a_list[3] = 45"
   ]
  },
  {
   "cell_type": "code",
   "execution_count": 16,
   "id": "fb9d073a",
   "metadata": {},
   "outputs": [
    {
     "data": {
      "text/plain": [
       "[10, 20, 30, 45, 50, 60, 70, 80, 85, 90]"
      ]
     },
     "execution_count": 16,
     "metadata": {},
     "output_type": "execute_result"
    }
   ],
   "source": [
    "a_list"
   ]
  },
  {
   "cell_type": "code",
   "execution_count": 17,
   "id": "a465e0d7",
   "metadata": {},
   "outputs": [
    {
     "data": {
      "text/plain": [
       "540"
      ]
     },
     "execution_count": 17,
     "metadata": {},
     "output_type": "execute_result"
    }
   ],
   "source": [
    "sum(a_list)\n",
    "\n",
    "#First option to do"
   ]
  },
  {
   "cell_type": "code",
   "execution_count": 20,
   "id": "15b3c62d",
   "metadata": {},
   "outputs": [
    {
     "data": {
      "text/plain": [
       "155"
      ]
     },
     "execution_count": 20,
     "metadata": {},
     "output_type": "execute_result"
    }
   ],
   "source": [
    "#another option\n",
    "\n",
    "total =  a_list[0] + a_list[1] + a_list[2] + a_list[3] + a_list[4]\n",
    "total"
   ]
  },
  {
   "cell_type": "code",
   "execution_count": 21,
   "id": "24274020",
   "metadata": {},
   "outputs": [],
   "source": [
    "e_list = []"
   ]
  },
  {
   "cell_type": "code",
   "execution_count": 22,
   "id": "8260220f",
   "metadata": {},
   "outputs": [
    {
     "data": {
      "text/plain": [
       "0"
      ]
     },
     "execution_count": 22,
     "metadata": {},
     "output_type": "execute_result"
    }
   ],
   "source": [
    "len(e_list)"
   ]
  },
  {
   "cell_type": "code",
   "execution_count": 23,
   "id": "2ccccae0",
   "metadata": {},
   "outputs": [
    {
     "data": {
      "text/plain": [
       "['Sydney', 'Tas', 'Bris']"
      ]
     },
     "execution_count": 23,
     "metadata": {},
     "output_type": "execute_result"
    }
   ],
   "source": [
    "cities = ['Sydney', 'Tas', 'Bris']\n",
    "cities"
   ]
  },
  {
   "cell_type": "code",
   "execution_count": 25,
   "id": "ac870eea",
   "metadata": {},
   "outputs": [
    {
     "data": {
      "text/plain": [
       "['Sydney', 'Tas', 45]"
      ]
     },
     "execution_count": 25,
     "metadata": {},
     "output_type": "execute_result"
    }
   ],
   "source": [
    "cities_2 = ['Sydney', 'Tas', 45]\n",
    "cities_2"
   ]
  },
  {
   "cell_type": "code",
   "execution_count": 32,
   "id": "319c7b95",
   "metadata": {},
   "outputs": [],
   "source": [
    "d_dic = {'Sydney':10,'Bris':20,'key3':30,'key4':40}"
   ]
  },
  {
   "cell_type": "code",
   "execution_count": 33,
   "id": "d6dc3215",
   "metadata": {},
   "outputs": [
    {
     "name": "stdout",
     "output_type": "stream",
     "text": [
      "{'Sydney': 10, 'Bris': 20, 'key3': 30, 'key4': 40}\n"
     ]
    }
   ],
   "source": [
    "print(d_dic)  #Dictionary is a type of list "
   ]
  },
  {
   "cell_type": "code",
   "execution_count": 34,
   "id": "4761fd08",
   "metadata": {},
   "outputs": [
    {
     "name": "stdout",
     "output_type": "stream",
     "text": [
      "10\n"
     ]
    }
   ],
   "source": [
    "print (d_dic['Sydney'])"
   ]
  },
  {
   "cell_type": "code",
   "execution_count": 35,
   "id": "975ff3aa",
   "metadata": {},
   "outputs": [],
   "source": [
    "t_tuple = (10,20,30,40)"
   ]
  },
  {
   "cell_type": "code",
   "execution_count": 37,
   "id": "73dadafa",
   "metadata": {},
   "outputs": [
    {
     "name": "stdout",
     "output_type": "stream",
     "text": [
      "10\n"
     ]
    }
   ],
   "source": [
    "print(t_tuple[0])    #Tuple is another type of list, but you can use when you dont want to change accidentally some values like ID or number of Passport"
   ]
  },
  {
   "cell_type": "code",
   "execution_count": 38,
   "id": "1fb97796",
   "metadata": {},
   "outputs": [],
   "source": [
    "import numpy as np"
   ]
  },
  {
   "cell_type": "code",
   "execution_count": 39,
   "id": "50379d07",
   "metadata": {},
   "outputs": [],
   "source": [
    "a_array = np.array([10,20,30])"
   ]
  },
  {
   "cell_type": "code",
   "execution_count": 40,
   "id": "8eb0be8c",
   "metadata": {},
   "outputs": [
    {
     "data": {
      "text/plain": [
       "array([10, 20, 30])"
      ]
     },
     "execution_count": 40,
     "metadata": {},
     "output_type": "execute_result"
    }
   ],
   "source": [
    "a_array"
   ]
  },
  {
   "cell_type": "code",
   "execution_count": 41,
   "id": "dd588fbb",
   "metadata": {},
   "outputs": [
    {
     "data": {
      "text/plain": [
       "1"
      ]
     },
     "execution_count": 41,
     "metadata": {},
     "output_type": "execute_result"
    }
   ],
   "source": [
    "a_array.ndim"
   ]
  },
  {
   "cell_type": "code",
   "execution_count": 42,
   "id": "bed0af14",
   "metadata": {},
   "outputs": [
    {
     "data": {
      "text/plain": [
       "(3,)"
      ]
     },
     "execution_count": 42,
     "metadata": {},
     "output_type": "execute_result"
    }
   ],
   "source": [
    "a_array.shape"
   ]
  },
  {
   "cell_type": "code",
   "execution_count": 47,
   "id": "67af0a84",
   "metadata": {},
   "outputs": [],
   "source": [
    "b_array = np.array([[10,20,30],\n",
    "                    [100,200,300]])"
   ]
  },
  {
   "cell_type": "code",
   "execution_count": 48,
   "id": "aeea800c",
   "metadata": {},
   "outputs": [
    {
     "data": {
      "text/plain": [
       "(2, 3)"
      ]
     },
     "execution_count": 48,
     "metadata": {},
     "output_type": "execute_result"
    }
   ],
   "source": [
    "b_array.shape"
   ]
  },
  {
   "cell_type": "code",
   "execution_count": 49,
   "id": "cc6a356c",
   "metadata": {},
   "outputs": [
    {
     "data": {
      "text/plain": [
       "2"
      ]
     },
     "execution_count": 49,
     "metadata": {},
     "output_type": "execute_result"
    }
   ],
   "source": [
    "b_array.ndim"
   ]
  },
  {
   "cell_type": "code",
   "execution_count": 50,
   "id": "71051a03",
   "metadata": {},
   "outputs": [
    {
     "data": {
      "text/plain": [
       "300"
      ]
     },
     "execution_count": 50,
     "metadata": {},
     "output_type": "execute_result"
    }
   ],
   "source": [
    "b_array[1][2]"
   ]
  },
  {
   "cell_type": "code",
   "execution_count": null,
   "id": "6361aadf",
   "metadata": {},
   "outputs": [],
   "source": []
  }
 ],
 "metadata": {
  "kernelspec": {
   "display_name": "Python 3 (ipykernel)",
   "language": "python",
   "name": "python3"
  },
  "language_info": {
   "codemirror_mode": {
    "name": "ipython",
    "version": 3
   },
   "file_extension": ".py",
   "mimetype": "text/x-python",
   "name": "python",
   "nbconvert_exporter": "python",
   "pygments_lexer": "ipython3",
   "version": "3.10.9"
  }
 },
 "nbformat": 4,
 "nbformat_minor": 5
}
