{
 "cells": [
  {
   "cell_type": "markdown",
   "id": "6d5289ad",
   "metadata": {},
   "source": [
    "## INHERITANCE"
   ]
  },
  {
   "cell_type": "code",
   "execution_count": 4,
   "id": "9c7b43ab",
   "metadata": {},
   "outputs": [
    {
     "name": "stdout",
     "output_type": "stream",
     "text": [
      "I am Parent Animal\n",
      "\n",
      "I am Parent Animal\n",
      "\n",
      "I am child dog\n",
      "\n",
      "I am Parent Animal\n",
      "\n",
      "I am child cat \n",
      "\n"
     ]
    }
   ],
   "source": [
    "#Inheritance\n",
    "\n",
    "class Animal:\n",
    "    def display(self):\n",
    "        print(\"I am Parent Animal\\n\")\n",
    "        \n",
    "class Dog(Animal):\n",
    "    def d_display(self):\n",
    "        print(\"I am child dog\\n\")\n",
    "        \n",
    "class Cat(Animal):\n",
    "    def c_display(self):\n",
    "        print(\"I am child cat \\n\")\n",
    "        \n",
    "\n",
    "animal1= Animal()\n",
    "animal1.display()\n",
    "\n",
    "dog1 = Dog()\n",
    "dog1.display()\n",
    "dog1.d_display()\n",
    "\n",
    "cat1 = Cat()\n",
    "cat1.display()\n",
    "cat1.c_display()"
   ]
  },
  {
   "cell_type": "code",
   "execution_count": 7,
   "id": "c8d6ac76",
   "metadata": {},
   "outputs": [
    {
     "name": "stdout",
     "output_type": "stream",
     "text": [
      "Printing in the superclass\n",
      "My name is Angie\n",
      "Printing in the subclass\n",
      "My name is Thais\n",
      "Printing in the subclass\n",
      "My name is Caterina\n",
      "I am studying DataScience \n"
     ]
    }
   ],
   "source": [
    "class Person:\n",
    "    def __init__(self,name,age):\n",
    "        self.name=name\n",
    "        self.age=age\n",
    "    def introduction(self):\n",
    "        print(\"My name is\", self.name)\n",
    "        \n",
    "class Staff(Person):\n",
    "    pass\n",
    "\n",
    "class Student(Person):\n",
    "    def study(self):\n",
    "        print(\"I am studying DataScience \")\n",
    "        \n",
    "p1=Person(\"Angie\", 27)\n",
    "print(\"Printing in the superclass\")\n",
    "p1.introduction()\n",
    "\n",
    "p2=Staff(\"Thais\",32)\n",
    "print(\"Printing in the subclass\")\n",
    "p2.introduction()\n",
    "\n",
    "p3=Student(\"Caterina\",32)\n",
    "print(\"Printing in the subclass\")\n",
    "p3.introduction()\n",
    "p3.study()"
   ]
  },
  {
   "cell_type": "markdown",
   "id": "3c9e97d3",
   "metadata": {},
   "source": [
    "## METHOD OVERRIDING"
   ]
  },
  {
   "cell_type": "code",
   "execution_count": 9,
   "id": "9f23ed70",
   "metadata": {},
   "outputs": [
    {
     "name": "stdout",
     "output_type": "stream",
     "text": [
      "Printing from the superclass\n",
      "Printing from the child class\n"
     ]
    }
   ],
   "source": [
    "class Parent:\n",
    "    def fun(self):\n",
    "        print(\"Printing from the superclass\")\n",
    "\n",
    "class Child(Parent):\n",
    "    def fun(self):\n",
    "        print(\"Printing from the child class\")\n",
    "        \n",
    "p1=Parent()\n",
    "p1.fun()\n",
    "\n",
    "c1=Child()\n",
    "c1.fun()"
   ]
  },
  {
   "cell_type": "code",
   "execution_count": 11,
   "id": "ba92fdf9",
   "metadata": {},
   "outputs": [
    {
     "name": "stdout",
     "output_type": "stream",
     "text": [
      "My name is Alex, and my age is 50\n",
      "My name is Michael, my age is 20 and my hobby is Cricket\n"
     ]
    }
   ],
   "source": [
    "class parent:\n",
    "    def __init__(self,name,age):\n",
    "        self.name=name\n",
    "        self.age=age\n",
    "    def display(self):\n",
    "        print(f\"My name is {self.name}, and my age is {self.age}\")\n",
    "\n",
    "class child(parent):\n",
    "    def __init__(self,name,age,hobby):\n",
    "        self.name=name\n",
    "        self.age=age\n",
    "        self.hobby=hobby\n",
    "    def display(self):\n",
    "        print(f\"My name is {self.name}, my age is {self.age} and my hobby is {self.hobby}\")\n",
    "\n",
    "p1 = parent(\"Alex\",50)\n",
    "p1.display()\n",
    "\n",
    "c1 = child(\"Michael\",20, \"Cricket\")\n",
    "c1.display()"
   ]
  },
  {
   "cell_type": "code",
   "execution_count": 12,
   "id": "715775ce",
   "metadata": {},
   "outputs": [
    {
     "name": "stdout",
     "output_type": "stream",
     "text": [
      "My name is Alex and my age is 50\n",
      "My name is Michael, my age is 20 and my hobby is Cricket\n"
     ]
    }
   ],
   "source": [
    "class parent:\n",
    "    def __init__ (self, name, age):\n",
    "        self.name=name\n",
    "        self.age=age\n",
    "    def display(self):\n",
    "        print(f\"My name is {self.name} and my age is {self.age}\")\n",
    "        \n",
    "class child(parent):\n",
    "    def __init__(self,name,age,hobby):\n",
    "        super().__init__(name,age)\n",
    "        self.hobby=hobby\n",
    "    def display(self):\n",
    "        print(f\"My name is {self.name}, my age is {self.age} and my hobby is {self.hobby}\")\n",
    "        \n",
    "p1 = parent(\"Alex\", 50)\n",
    "p1.display()\n",
    "\n",
    "c1 = child(\"Michael\", 20, \"Cricket\")\n",
    "c1.display()\n"
   ]
  },
  {
   "cell_type": "markdown",
   "id": "1eb956e1",
   "metadata": {},
   "source": [
    "## OVERRIDING SUPERCLASS'S METHOD"
   ]
  },
  {
   "cell_type": "code",
   "execution_count": 13,
   "id": "cefa11ea",
   "metadata": {},
   "outputs": [
    {
     "name": "stdout",
     "output_type": "stream",
     "text": [
      "Marks for normal submission are:  5.0\n",
      "Marks for late submission are:  4.5\n"
     ]
    }
   ],
   "source": [
    "class Marking:\n",
    "    def __init__(self, obtainedmarks, fullmarks, weight):\n",
    "        self.obtainedmarks=obtainedmarks\n",
    "        self.fullmarks=fullmarks\n",
    "        self.weight=weight\n",
    "    def calculate_marks(self):\n",
    "        return self.obtainedmarks/self.fullmarks*self.weight\n",
    "    \n",
    "class LateMarking(Marking):\n",
    "    def calculate_marks(self):\n",
    "        grade=super().calculate_marks()\n",
    "        return grade-(grade*0.1)\n",
    "m=Marking(40,80,10)\n",
    "print(\"Marks for normal submission are: \",m.calculate_marks())\n",
    "\n",
    "lm=LateMarking(40,80,10)\n",
    "print(\"Marks for late submission are: \", lm.calculate_marks())"
   ]
  },
  {
   "cell_type": "markdown",
   "id": "215ac45d",
   "metadata": {},
   "source": [
    "## ABSTRACTION"
   ]
  },
  {
   "cell_type": "code",
   "execution_count": 17,
   "id": "7c20bd8d",
   "metadata": {},
   "outputs": [
    {
     "name": "stdout",
     "output_type": "stream",
     "text": [
      "Area for the square is:  16\n",
      "Area for the circle is:  28.274333882308138\n"
     ]
    }
   ],
   "source": [
    "from abc import ABC, abstractmethod\n",
    "import math as m\n",
    "class shape(ABC):\n",
    "    def __init__(self,length,width):\n",
    "        self.length=length\n",
    "        self.width=width\n",
    "        @abstractmethod\n",
    "        def area(self):\n",
    "            pass\n",
    "class square(shape):\n",
    "    def area(self):\n",
    "        return self.length*self.width\n",
    "class circle(shape):\n",
    "    def __init__(self,radius):\n",
    "        self.radius=radius\n",
    "    def area(self):\n",
    "        return m.pi * m.pow(self.radius,2)\n",
    "    \n",
    "s1 = square(4,4)\n",
    "print(\"Area for the square is: \", s1.area())\n",
    "\n",
    "c1 = circle(3)\n",
    "print(\"Area for the circle is: \", c1.area())"
   ]
  },
  {
   "cell_type": "code",
   "execution_count": null,
   "id": "53b8fe6e",
   "metadata": {},
   "outputs": [],
   "source": []
  }
 ],
 "metadata": {
  "kernelspec": {
   "display_name": "Python 3 (ipykernel)",
   "language": "python",
   "name": "python3"
  },
  "language_info": {
   "codemirror_mode": {
    "name": "ipython",
    "version": 3
   },
   "file_extension": ".py",
   "mimetype": "text/x-python",
   "name": "python",
   "nbconvert_exporter": "python",
   "pygments_lexer": "ipython3",
   "version": "3.10.9"
  }
 },
 "nbformat": 4,
 "nbformat_minor": 5
}
