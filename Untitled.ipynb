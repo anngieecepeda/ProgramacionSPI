{
 "cells": [
  {
   "cell_type": "markdown",
   "id": "531a869e",
   "metadata": {},
   "source": [
    "Week 1 Tutorial"
   ]
  },
  {
   "cell_type": "code",
   "execution_count": 30,
   "id": "5f6c8b5e",
   "metadata": {},
   "outputs": [
    {
     "data": {
      "text/plain": [
       "[2, 5, 4, 4]"
      ]
     },
     "execution_count": 30,
     "metadata": {},
     "output_type": "execute_result"
    }
   ],
   "source": [
    "# simpler code\n",
    "# find measures of central tendency using Statistics Library\n",
    "\n",
    "import statistics as st\n",
    "\n",
    "rainfall = [2,5,4,4]\n",
    "rainfall"
   ]
  },
  {
   "cell_type": "code",
   "execution_count": 31,
   "id": "8d13d07e",
   "metadata": {},
   "outputs": [],
   "source": [
    "# FInd the Mean, Median and the Mode of the data\n",
    "mean = st.mean(rainfall)\n",
    "median = st.median(rainfall)\n",
    "mode = st.mode(rainfall)\n",
    "h_mean = st.harmonic_mean(rainfall)\n",
    "g_mean = st.geometric_mean(rainfall)"
   ]
  },
  {
   "cell_type": "code",
   "execution_count": 32,
   "id": "9e8d7ddb",
   "metadata": {},
   "outputs": [
    {
     "name": "stdout",
     "output_type": "stream",
     "text": [
      "3.75\n",
      "4.0\n",
      "4\n",
      "3.3333333333333335\n",
      "3.5565588200778455\n"
     ]
    }
   ],
   "source": [
    "# Printing the Mean, Median and the Mode of the data\n",
    "print(mean)\n",
    "print(median)\n",
    "print(mode)\n",
    "print(h_mean)\n",
    "print(g_mean)"
   ]
  },
  {
   "cell_type": "code",
   "execution_count": 33,
   "id": "a04f84d4",
   "metadata": {},
   "outputs": [
    {
     "name": "stdout",
     "output_type": "stream",
     "text": [
      "Mean= 4.416666666666667\n",
      "Median= 4.0\n",
      "Mode= 8\n",
      "Harmonic Mean= 2.6366727700758568\n",
      "Geometric Mean= 3.5052575722617214\n"
     ]
    }
   ],
   "source": [
    "# Below is a more readable code\n",
    "# Import the statistics library for calculating central tendency measures\n",
    "import statistics as st\n",
    "\n",
    "# Data representing rainfall measurements \n",
    "rainfall = [2,5,4,4,1,2,7,8,8,8,1,3]\n",
    "\n",
    "# Calculate central tendency measures\n",
    "mean =st.mean(rainfall)\n",
    "median = st.median(rainfall)\n",
    "mode = st.mode(rainfall)\n",
    "harmonic_mean = st.harmonic_mean(rainfall)\n",
    "geometric_mean = st.geometric_mean(rainfall)\n",
    "\n",
    "# Print the calculated values\n",
    "\n",
    "print(f\"Mean= {mean}\")\n",
    "print(f\"Median= {median}\")\n",
    "print(f\"Mode= {mode}\")\n",
    "print(f\"Harmonic Mean= {harmonic_mean}\")\n",
    "print(f\"Geometric Mean= {geometric_mean}\")"
   ]
  },
  {
   "cell_type": "code",
   "execution_count": 34,
   "id": "4eb359f8",
   "metadata": {},
   "outputs": [
    {
     "name": "stdout",
     "output_type": "stream",
     "text": [
      "4.416666666666667\n",
      "4\n"
     ]
    }
   ],
   "source": [
    "import numpy as np\n",
    "\n",
    "mean_np = np.mean(rainfall)\n",
    "print(mean_np)\n",
    "median_np = 4\n",
    "print(median_np)"
   ]
  },
  {
   "cell_type": "code",
   "execution_count": 35,
   "id": "95e8df77",
   "metadata": {},
   "outputs": [
    {
     "data": {
      "text/plain": [
       "[2, 5, 4, 4, 1, 2, 7, 8, 8, 8, 1, 3]"
      ]
     },
     "execution_count": 35,
     "metadata": {},
     "output_type": "execute_result"
    }
   ],
   "source": [
    "rainfall"
   ]
  },
  {
   "cell_type": "code",
   "execution_count": 36,
   "id": "257837d2",
   "metadata": {},
   "outputs": [
    {
     "data": {
      "image/png": "[encoded data removed]",
      "text/plain": [
       "<Figure size 640x480 with 1 Axes>"
      ]
     },
     "metadata": {},
     "output_type": "display_data"
    }
   ],
   "source": [
    "import matplotlib.pyplot as plt\n",
    "\n",
    "# plt.axvline(x=median, c = 'red', label = 'Median')\n",
    "plt.axvline(x=mean, c = 'yellow', label ='Mean')\n",
    "plt.axvline(x=geometric_mean, c = 'black', label ='Geometric mean')\n",
    "plt.axvline(x=harmonic_mean, c = 'green', label = 'Harmonic mean')\n",
    "plt.legend()\n",
    "plt.show()"
   ]
  },
  {
   "cell_type": "code",
   "execution_count": 46,
   "id": "b26742ff",
   "metadata": {},
   "outputs": [
    {
     "name": "stdout",
     "output_type": "stream",
     "text": [
      "4.416666666666667\n",
      "3.5052575722617223\n",
      "2.636672770075857\n"
     ]
    }
   ],
   "source": [
    "from scipy import stats\n",
    "from scipy import mean\n",
    "from scipy.stats import gmean\n",
    "from scipy.stats import hmean\n",
    "\n",
    "import warnings\n",
    "warnings.filterwarnings(\"ignore\")\n",
    "\n",
    "Arithmetic_mean = mean(rainfall)\n",
    "Geometric_mean = gmean(rainfall)\n",
    "Harmonic_mean = hmean(rainfall)\n",
    "print(Arithmetic_mean)\n",
    "print(Geometric_mean)\n",
    "print(Harmonic_mean)"
   ]
  },
  {
   "cell_type": "code",
   "execution_count": null,
   "id": "2bb45121",
   "metadata": {},
   "outputs": [],
   "source": []
  }
 ],
 "metadata": {
  "kernelspec": {
   "display_name": "Python 3 (ipykernel)",
   "language": "python",
   "name": "python3"
  },
  "language_info": {
   "codemirror_mode": {
    "name": "ipython",
    "version": 3
   },
   "file_extension": ".py",
   "mimetype": "text/x-python",
   "name": "python",
   "nbconvert_exporter": "python",
   "pygments_lexer": "ipython3",
   "version": "3.10.9"
  }
 },
 "nbformat": 4,
 "nbformat_minor": 5
}
